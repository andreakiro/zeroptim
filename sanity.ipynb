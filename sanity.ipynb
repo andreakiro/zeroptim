{
 "cells": [
  {
   "cell_type": "code",
   "execution_count": 1,
   "metadata": {},
   "outputs": [],
   "source": [
    "from zeroptim.configs import load\n",
    "from zeroptim.trainer import ZeroptimTrainer"
   ]
  },
  {
   "cell_type": "code",
   "execution_count": 2,
   "metadata": {},
   "outputs": [],
   "source": [
    "config01 = load(\"configs/sanity/mlp01.yaml\") # bs = 128\n",
    "trainer01 = ZeroptimTrainer.from_config(config01)"
   ]
  },
  {
   "cell_type": "code",
   "execution_count": 3,
   "metadata": {},
   "outputs": [],
   "source": [
    "config02 = load(\"configs/sanity/mlp02.yaml\") # bs = 64\n",
    "trainer02 = ZeroptimTrainer.from_config(config02)"
   ]
  },
  {
   "cell_type": "code",
   "execution_count": 4,
   "metadata": {},
   "outputs": [],
   "source": [
    "# first01 = next(iter(trainer01.loader))\n",
    "# first02 = next(iter(trainer02.loader))\n",
    "# print(first01[1])\n",
    "# print(first02[1])"
   ]
  },
  {
   "cell_type": "code",
   "execution_count": 5,
   "metadata": {},
   "outputs": [
    {
     "name": "stderr",
     "output_type": "stream",
     "text": [
      "Failed to detect the name of this notebook, you can set it manually with the WANDB_NOTEBOOK_NAME environment variable to enable code saving.\n",
      "\u001b[34m\u001b[1mwandb\u001b[0m: Currently logged in as: \u001b[33mandreakiro\u001b[0m. Use \u001b[1m`wandb login --relogin`\u001b[0m to force relogin\n"
     ]
    },
    {
     "data": {
      "text/html": [
       "wandb version 0.16.2 is available!  To upgrade, please run:\n",
       " $ pip install wandb --upgrade"
      ],
      "text/plain": [
       "<IPython.core.display.HTML object>"
      ]
     },
     "metadata": {},
     "output_type": "display_data"
    },
    {
     "data": {
      "text/html": [
       "Tracking run with wandb version 0.16.1"
      ],
      "text/plain": [
       "<IPython.core.display.HTML object>"
      ]
     },
     "metadata": {},
     "output_type": "display_data"
    },
    {
     "data": {
      "text/html": [
       "Run data is saved locally in <code>/Users/apinto/Desktop/thesis/03-zero-optimization/zeroptim/wandb/run-20240124_140417-ihursz1y</code>"
      ],
      "text/plain": [
       "<IPython.core.display.HTML object>"
      ]
     },
     "metadata": {},
     "output_type": "display_data"
    },
    {
     "data": {
      "text/html": [
       "Syncing run <strong><a href='https://wandb.ai/andreakiro/zeroptim/runs/ihursz1y' target=\"_blank\">rosy-rain-191</a></strong> to <a href='https://wandb.ai/andreakiro/zeroptim' target=\"_blank\">Weights & Biases</a> (<a href='https://wandb.me/run' target=\"_blank\">docs</a>)<br/>"
      ],
      "text/plain": [
       "<IPython.core.display.HTML object>"
      ]
     },
     "metadata": {},
     "output_type": "display_data"
    },
    {
     "data": {
      "text/html": [
       " View project at <a href='https://wandb.ai/andreakiro/zeroptim' target=\"_blank\">https://wandb.ai/andreakiro/zeroptim</a>"
      ],
      "text/plain": [
       "<IPython.core.display.HTML object>"
      ]
     },
     "metadata": {},
     "output_type": "display_data"
    },
    {
     "data": {
      "text/html": [
       " View run at <a href='https://wandb.ai/andreakiro/zeroptim/runs/ihursz1y' target=\"_blank\">https://wandb.ai/andreakiro/zeroptim/runs/ihursz1y</a>"
      ],
      "text/plain": [
       "<IPython.core.display.HTML object>"
      ]
     },
     "metadata": {},
     "output_type": "display_data"
    },
    {
     "name": "stderr",
     "output_type": "stream",
     "text": [
      "epoch 1/1 iter 469/469 | train loss 0.426: 100%|██████████| 469/469 [00:11<00:00, 39.71it/s]\n"
     ]
    },
    {
     "data": {
      "text/html": [
       "Finishing last run (ID:ihursz1y) before initializing another..."
      ],
      "text/plain": [
       "<IPython.core.display.HTML object>"
      ]
     },
     "metadata": {},
     "output_type": "display_data"
    },
    {
     "name": "stderr",
     "output_type": "stream",
     "text": [
      "wandb: WARNING Source type is set to 'repo' but some required information is missing from the environment. A job will not be created from this run. See https://docs.wandb.ai/guides/launch/create-job\n"
     ]
    },
    {
     "data": {
      "application/vnd.jupyter.widget-view+json": {
       "model_id": "a9043eb3c4854524b39533c598c1adf0",
       "version_major": 2,
       "version_minor": 0
      },
      "text/plain": [
       "VBox(children=(Label(value='0.001 MB of 0.001 MB uploaded\\r'), FloatProgress(value=1.0, max=1.0)))"
      ]
     },
     "metadata": {},
     "output_type": "display_data"
    },
    {
     "data": {
      "text/html": [
       "<style>\n",
       "    table.wandb td:nth-child(1) { padding: 0 10px; text-align: left ; width: auto;} td:nth-child(2) {text-align: left ; width: 100%}\n",
       "    .wandb-row { display: flex; flex-direction: row; flex-wrap: wrap; justify-content: flex-start; width: 100% }\n",
       "    .wandb-col { display: flex; flex-direction: column; flex-basis: 100%; flex: 1; padding: 10px; }\n",
       "    </style>\n",
       "<div class=\"wandb-row\"><div class=\"wandb-col\"><h3>Run history:</h3><br/><table class=\"wandb\"><tr><td>delta_loss</td><td>▆▆▇▄▄▆▇▇▇▆▅▆█▇▆▅▇▅▅█▆▇▆▆▇▆▅▆▇▅▆▆▅█▇▅▆▅▆▁</td></tr><tr><td>jvp_per_iter</td><td>▇▇▆▇▇▆▇▆▆▅▆▆▅▇▆▇▄▇█▆▁▅▇▅▇▇▇▆▆█▆▅▅▁▄▇█▆▇█</td></tr><tr><td>n_epoch</td><td>▁</td></tr><tr><td>n_iter</td><td>▁▁▁▁▂▂▂▂▂▃▃▃▃▃▃▄▄▄▄▄▅▅▅▅▅▅▆▆▆▆▆▇▇▇▇▇▇███</td></tr><tr><td>train_acc_per_epoch</td><td>▁</td></tr><tr><td>train_acc_per_iter</td><td>▁▂▃▅▆▆▇▆▆▆▇▆▆▇▆▇▇▇▇▆▇▇▇▇▇▇▇▇▆▇▇▇▆▇▆▇▇▇██</td></tr><tr><td>train_loss_per_epoch</td><td>▁</td></tr><tr><td>train_loss_per_iter</td><td>█▇▆▅▄▄▄▄▃▃▃▃▃▃▃▂▃▂▂▃▃▃▂▂▂▂▂▂▂▂▂▂▂▂▃▂▂▂▁▁</td></tr><tr><td>vhv_per_iter</td><td>▁▁▂▁▁▂▁▂▃▃▂▃▃▂▂▂▄▁▁▂▇▃▂▃▁▁▂▃▂▁▃▃▃█▄▁▁▂▁▁</td></tr></table><br/></div><div class=\"wandb-col\"><h3>Run summary:</h3><br/><table class=\"wandb\"><tr><td>delta_loss</td><td>0.30055</td></tr><tr><td>jvp_per_iter</td><td>-0.14647</td></tr><tr><td>n_epoch</td><td>0</td></tr><tr><td>n_iter</td><td>468</td></tr><tr><td>train_acc_per_epoch</td><td>81.65423</td></tr><tr><td>train_acc_per_iter</td><td>89.58333</td></tr><tr><td>train_loss_per_epoch</td><td>0.67249</td></tr><tr><td>train_loss_per_iter</td><td>0.42601</td></tr><tr><td>vhv_per_iter</td><td>0.13215</td></tr></table><br/></div></div>"
      ],
      "text/plain": [
       "<IPython.core.display.HTML object>"
      ]
     },
     "metadata": {},
     "output_type": "display_data"
    },
    {
     "data": {
      "text/html": [
       " View run <strong style=\"color:#cdcd00\">rosy-rain-191</strong> at: <a href='https://wandb.ai/andreakiro/zeroptim/runs/ihursz1y' target=\"_blank\">https://wandb.ai/andreakiro/zeroptim/runs/ihursz1y</a><br/>Synced 5 W&B file(s), 0 media file(s), 0 artifact file(s) and 0 other file(s)"
      ],
      "text/plain": [
       "<IPython.core.display.HTML object>"
      ]
     },
     "metadata": {},
     "output_type": "display_data"
    },
    {
     "data": {
      "text/html": [
       "Find logs at: <code>./wandb/run-20240124_140417-ihursz1y/logs</code>"
      ],
      "text/plain": [
       "<IPython.core.display.HTML object>"
      ]
     },
     "metadata": {},
     "output_type": "display_data"
    },
    {
     "data": {
      "text/html": [
       "Successfully finished last run (ID:ihursz1y). Initializing new run:<br/>"
      ],
      "text/plain": [
       "<IPython.core.display.HTML object>"
      ]
     },
     "metadata": {},
     "output_type": "display_data"
    },
    {
     "data": {
      "application/vnd.jupyter.widget-view+json": {
       "model_id": "5cdc2d4a9b6a4a5f8eecb9040a7f1f94",
       "version_major": 2,
       "version_minor": 0
      },
      "text/plain": [
       "VBox(children=(Label(value='Waiting for wandb.init()...\\r'), FloatProgress(value=0.011167887033338451, max=1.0…"
      ]
     },
     "metadata": {},
     "output_type": "display_data"
    },
    {
     "data": {
      "text/html": [
       "wandb version 0.16.2 is available!  To upgrade, please run:\n",
       " $ pip install wandb --upgrade"
      ],
      "text/plain": [
       "<IPython.core.display.HTML object>"
      ]
     },
     "metadata": {},
     "output_type": "display_data"
    },
    {
     "data": {
      "text/html": [
       "Tracking run with wandb version 0.16.1"
      ],
      "text/plain": [
       "<IPython.core.display.HTML object>"
      ]
     },
     "metadata": {},
     "output_type": "display_data"
    },
    {
     "data": {
      "text/html": [
       "Run data is saved locally in <code>/Users/apinto/Desktop/thesis/03-zero-optimization/zeroptim/wandb/run-20240124_140430-sw28rr19</code>"
      ],
      "text/plain": [
       "<IPython.core.display.HTML object>"
      ]
     },
     "metadata": {},
     "output_type": "display_data"
    },
    {
     "data": {
      "text/html": [
       "Syncing run <strong><a href='https://wandb.ai/andreakiro/zeroptim/runs/sw28rr19' target=\"_blank\">grateful-salad-192</a></strong> to <a href='https://wandb.ai/andreakiro/zeroptim' target=\"_blank\">Weights & Biases</a> (<a href='https://wandb.me/run' target=\"_blank\">docs</a>)<br/>"
      ],
      "text/plain": [
       "<IPython.core.display.HTML object>"
      ]
     },
     "metadata": {},
     "output_type": "display_data"
    },
    {
     "data": {
      "text/html": [
       " View project at <a href='https://wandb.ai/andreakiro/zeroptim' target=\"_blank\">https://wandb.ai/andreakiro/zeroptim</a>"
      ],
      "text/plain": [
       "<IPython.core.display.HTML object>"
      ]
     },
     "metadata": {},
     "output_type": "display_data"
    },
    {
     "data": {
      "text/html": [
       " View run at <a href='https://wandb.ai/andreakiro/zeroptim/runs/sw28rr19' target=\"_blank\">https://wandb.ai/andreakiro/zeroptim/runs/sw28rr19</a>"
      ],
      "text/plain": [
       "<IPython.core.display.HTML object>"
      ]
     },
     "metadata": {},
     "output_type": "display_data"
    },
    {
     "name": "stderr",
     "output_type": "stream",
     "text": [
      "epoch 1/1 iter 938/938 | train loss 0.234: 100%|██████████| 938/938 [00:18<00:00, 50.09it/s]\n"
     ]
    }
   ],
   "source": [
    "metrics01 = trainer01.train(epochs=1)\n",
    "metrics02 = trainer02.train(epochs=1)"
   ]
  },
  {
   "cell_type": "code",
   "execution_count": 6,
   "metadata": {},
   "outputs": [],
   "source": [
    "jvp01 = [metrics01[\"per_iter\"][i][\"jvp_per_iter\"] for i in range(len(metrics01[\"per_iter\"]))]\n",
    "jvp02 = [metrics02[\"per_iter\"][i][\"jvp_per_iter\"] for i in range(len(metrics02[\"per_iter\"]))]\n",
    "jvp02avg = [(jvp02[i] + jvp02[i+1]) / 2 for i in range(0, len(jvp02), 2)]"
   ]
  },
  {
   "cell_type": "code",
   "execution_count": 7,
   "metadata": {},
   "outputs": [
    {
     "data": {
      "text/plain": [
       "True"
      ]
     },
     "execution_count": 7,
     "metadata": {},
     "output_type": "execute_result"
    }
   ],
   "source": [
    "len(jvp01) == len(jvp02avg)"
   ]
  },
  {
   "cell_type": "code",
   "execution_count": 8,
   "metadata": {},
   "outputs": [
    {
     "data": {
      "text/plain": [
       "[-0.23534227907657623,\n",
       " -0.1292794793844223,\n",
       " -0.12417685240507126,\n",
       " -0.08333323895931244,\n",
       " -0.05890636146068573]"
      ]
     },
     "execution_count": 8,
     "metadata": {},
     "output_type": "execute_result"
    }
   ],
   "source": [
    "jvp01[:5]"
   ]
  },
  {
   "cell_type": "code",
   "execution_count": 9,
   "metadata": {},
   "outputs": [
    {
     "data": {
      "text/plain": [
       "[-0.1933288276195526,\n",
       " -0.16216691583395004,\n",
       " -0.11481916904449463,\n",
       " -0.10168788209557533,\n",
       " -0.09826384112238884]"
      ]
     },
     "execution_count": 9,
     "metadata": {},
     "output_type": "execute_result"
    }
   ],
   "source": [
    "jvp02avg[:5]"
   ]
  },
  {
   "cell_type": "code",
   "execution_count": null,
   "metadata": {},
   "outputs": [],
   "source": []
  }
 ],
 "metadata": {
  "kernelspec": {
   "display_name": "zeroptim-wjwr",
   "language": "python",
   "name": "python3"
  },
  "language_info": {
   "codemirror_mode": {
    "name": "ipython",
    "version": 3
   },
   "file_extension": ".py",
   "mimetype": "text/x-python",
   "name": "python",
   "nbconvert_exporter": "python",
   "pygments_lexer": "ipython3",
   "version": "3.10.13"
  }
 },
 "nbformat": 4,
 "nbformat_minor": 2
}

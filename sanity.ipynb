{
 "cells": [
  {
   "cell_type": "code",
   "execution_count": null,
   "metadata": {},
   "outputs": [],
   "source": [
    "from zeroptim.configs import load\n",
    "from zeroptim.trainer import ZeroptimTrainer"
   ]
  },
  {
   "cell_type": "code",
   "execution_count": null,
   "metadata": {},
   "outputs": [],
   "source": [
    "config01 = load(\"configs/sanity/mlp01.yaml\") # bs = 128\n",
    "trainer01 = ZeroptimTrainer.from_config(config01)"
   ]
  },
  {
   "cell_type": "code",
   "execution_count": null,
   "metadata": {},
   "outputs": [],
   "source": [
    "config02 = load(\"configs/sanity/mlp02.yaml\") # bs = 64\n",
    "trainer02 = ZeroptimTrainer.from_config(config02)"
   ]
  },
  {
   "cell_type": "code",
   "execution_count": null,
   "metadata": {},
   "outputs": [],
   "source": [
    "# first01 = next(iter(trainer01.loader))\n",
    "# first02 = next(iter(trainer02.loader))\n",
    "# print(first01[1])\n",
    "# print(first02[1])"
   ]
  },
  {
   "cell_type": "code",
   "execution_count": null,
   "metadata": {},
   "outputs": [],
   "source": [
    "metrics01 = trainer01.train(epochs=1)\n",
    "metrics02 = trainer02.train(epochs=1)"
   ]
  },
  {
   "cell_type": "code",
   "execution_count": null,
   "metadata": {},
   "outputs": [],
   "source": [
    "jvp01 = [metrics01[\"per_iter\"][i][\"jvp_per_iter\"] for i in range(len(metrics01[\"per_iter\"]))]\n",
    "jvp02 = [metrics02[\"per_iter\"][i][\"jvp_per_iter\"] for i in range(len(metrics02[\"per_iter\"]))]\n",
    "jvp02bis = [(jvp02[i] + jvp02[i+1]) / 2 for i in range(0, len(jvp02), 2)]"
   ]
  },
  {
   "cell_type": "code",
   "execution_count": null,
   "metadata": {},
   "outputs": [],
   "source": [
    "len(jvp01) == len(jvp02bis)"
   ]
  },
  {
   "cell_type": "code",
   "execution_count": null,
   "metadata": {},
   "outputs": [],
   "source": [
    "jvp01"
   ]
  },
  {
   "cell_type": "code",
   "execution_count": null,
   "metadata": {},
   "outputs": [],
   "source": [
    "jvp02bis"
   ]
  },
  {
   "cell_type": "code",
   "execution_count": null,
   "metadata": {},
   "outputs": [],
   "source": []
  }
 ],
 "metadata": {
  "kernelspec": {
   "display_name": "zeroptim-wjwr",
   "language": "python",
   "name": "python3"
  },
  "language_info": {
   "codemirror_mode": {
    "name": "ipython",
    "version": 3
   },
   "file_extension": ".py",
   "mimetype": "text/x-python",
   "name": "python",
   "nbconvert_exporter": "python",
   "pygments_lexer": "ipython3",
   "version": "3.10.13"
  }
 },
 "nbformat": 4,
 "nbformat_minor": 2
}

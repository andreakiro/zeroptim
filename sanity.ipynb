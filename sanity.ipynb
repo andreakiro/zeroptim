{
 "cells": [
  {
   "cell_type": "code",
   "execution_count": 1,
   "metadata": {},
   "outputs": [],
   "source": [
    "from zeroptim.configs import load\n",
    "from zeroptim.trainer import ZeroptimTrainer"
   ]
  },
  {
   "cell_type": "code",
   "execution_count": 2,
   "metadata": {},
   "outputs": [],
   "source": [
    "config01 = load(\"configs/sanity/mlp-bs01.yaml\") # bs = 1\n",
    "trainer01 = ZeroptimTrainer.from_config(config01)"
   ]
  },
  {
   "cell_type": "code",
   "execution_count": 3,
   "metadata": {},
   "outputs": [],
   "source": [
    "config02 = load(\"configs/sanity/mlp-bs02.yaml\") # bs = 2\n",
    "trainer02 = ZeroptimTrainer.from_config(config02)"
   ]
  },
  {
   "cell_type": "code",
   "execution_count": 4,
   "metadata": {},
   "outputs": [
    {
     "name": "stdout",
     "output_type": "stream",
     "text": [
      "tensor([5])\n",
      "tensor([5, 0])\n"
     ]
    }
   ],
   "source": [
    "first01 = next(iter(trainer01.loader))\n",
    "first02 = next(iter(trainer02.loader))\n",
    "print(first01[1])\n",
    "print(first02[1])"
   ]
  },
  {
   "cell_type": "code",
   "execution_count": 5,
   "metadata": {},
   "outputs": [
    {
     "name": "stderr",
     "output_type": "stream",
     "text": [
      "epoch 1/1 iter 200/60000 | train loss 1.423:   0%|          | 200/60000 [00:02<12:23, 80.41it/s]\n",
      "epoch 1/1 iter 100/30000 | train loss 1.715:   0%|          | 100/30000 [00:01<08:19, 59.91it/s]\n"
     ]
    }
   ],
   "source": [
    "metrics01 = trainer01.train(epochs=1, max_iters=200)\n",
    "metrics02 = trainer02.train(epochs=1, max_iters=100)"
   ]
  },
  {
   "cell_type": "code",
   "execution_count": 23,
   "metadata": {},
   "outputs": [],
   "source": [
    "jvp_bs01 = [metrics01[\"per_iter\"][i][\"jvp_per_iter\"] for i in range(len(metrics01[\"per_iter\"]))] # len(200)\n",
    "jvp_bs02 = [metrics02[\"per_iter\"][i][\"jvp_per_iter\"] for i in range(len(metrics02[\"per_iter\"]))] # len(100)\n",
    "jvp_bs01avg = [(jvp_bs01[i] + jvp_bs01[i+1]) / 2 for i in range(0, len(jvp_bs01), 2)] # len(100)"
   ]
  },
  {
   "cell_type": "code",
   "execution_count": 26,
   "metadata": {},
   "outputs": [
    {
     "data": {
      "text/plain": [
       "False"
      ]
     },
     "execution_count": 26,
     "metadata": {},
     "output_type": "execute_result"
    }
   ],
   "source": [
    "jvp_bs01avg == jvp_bs02"
   ]
  },
  {
   "cell_type": "code",
   "execution_count": 27,
   "metadata": {},
   "outputs": [
    {
     "data": {
      "text/plain": [
       "[-10.424884796142578,\n",
       " -10.653726577758789,\n",
       " -1.454204797744751,\n",
       " -4.29703426361084,\n",
       " -1.4204339981079102]"
      ]
     },
     "execution_count": 27,
     "metadata": {},
     "output_type": "execute_result"
    }
   ],
   "source": [
    "jvp_bs01[:5]"
   ]
  },
  {
   "cell_type": "code",
   "execution_count": 29,
   "metadata": {},
   "outputs": [
    {
     "data": {
      "text/plain": [
       "[-10.539305686950684,\n",
       " -2.8756195306777954,\n",
       " -1.609659731388092,\n",
       " -2.30672287940979,\n",
       " -1.931323528289795]"
      ]
     },
     "execution_count": 29,
     "metadata": {},
     "output_type": "execute_result"
    }
   ],
   "source": [
    "jvp_bs01avg[:5]"
   ]
  },
  {
   "cell_type": "code",
   "execution_count": 28,
   "metadata": {},
   "outputs": [
    {
     "data": {
      "text/plain": [
       "[-4.4578142166137695,\n",
       " -5.606016159057617,\n",
       " -4.268278121948242,\n",
       " -2.45798659324646,\n",
       " -1.1030024290084839]"
      ]
     },
     "execution_count": 28,
     "metadata": {},
     "output_type": "execute_result"
    }
   ],
   "source": [
    "jvp_bs02[:5]"
   ]
  },
  {
   "cell_type": "code",
   "execution_count": null,
   "metadata": {},
   "outputs": [],
   "source": []
  }
 ],
 "metadata": {
  "kernelspec": {
   "display_name": "zeroptim-wjwr",
   "language": "python",
   "name": "python3"
  },
  "language_info": {
   "codemirror_mode": {
    "name": "ipython",
    "version": 3
   },
   "file_extension": ".py",
   "mimetype": "text/x-python",
   "name": "python",
   "nbconvert_exporter": "python",
   "pygments_lexer": "ipython3",
   "version": "3.10.13"
  }
 },
 "nbformat": 4,
 "nbformat_minor": 2
}

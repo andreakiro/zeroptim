{
 "cells": [
  {
   "cell_type": "code",
   "execution_count": 1,
   "metadata": {},
   "outputs": [],
   "source": [
    "import zeroptim.callbacks.functional as utils\n",
    "from zeroptim.trainer import ZeroptimTrainer\n",
    "from zeroptim.configs import load\n",
    "import torch\n",
    "\n",
    "config = load(\"configs/experiment/mlp-sgd-full.yaml\")\n",
    "trainer = ZeroptimTrainer.from_config(config)\n",
    "model = trainer.model\n",
    "loader = trainer.loader\n",
    "crit = trainer.crit\n",
    "\n",
    "get_params_data = lambda named_params: map(lambda x: x[1], named_params)\n",
    "named_params_t0 = [(n, p.clone().detach()) for (n, p) in  model.named_parameters()]\n",
    "\n",
    "def func_fwd(*model_params, **kwargs):\n",
    "    # state-less functional forward pass (except model)\n",
    "    names = kwargs.get(\"state\").get(\"names\")\n",
    "    inputs = kwargs.get(\"state\").get(\"inputs\")\n",
    "    targets = kwargs.get(\"state\").get(\"targets\")\n",
    "    for name, p in zip(names, model_params):\n",
    "        utils.set_attr(model, name.split(\".\"), p)\n",
    "    return crit(model(inputs), targets)\n",
    "\n",
    "def metrics_in_batch(inputs, targets, names, primals, tangents, func_fwd):\n",
    "    state = {\"names\": names, \"inputs\": inputs, \"targets\": targets}\n",
    "    _, jvp = torch.autograd.functional.jvp(func_fwd, primals, tangents, state=state)\n",
    "    _, hvp = torch.autograd.functional.hvp(func_fwd, primals, tangents, state=state)\n",
    "    vhv = sum((v * hv).sum() for v, hv in zip(tangents, hvp))\n",
    "    jvp, vhv = jvp.item(), vhv.item()\n",
    "    return jvp, vhv\n",
    "\n",
    "def metrics_in_landscape(iterator, names, primals, tangents, func_fwd):\n",
    "    agg_jvp, agg_vhv, count = 0.0, 0.0, 0.0\n",
    "\n",
    "    for inputs, targets in iterator:\n",
    "        sz = inputs.size(0)\n",
    "        state = {\"names\": names, \"inputs\": inputs, \"targets\": targets}\n",
    "        _, jvp_ = torch.autograd.functional.jvp(\n",
    "            func_fwd, primals, tangents, state=state\n",
    "        )\n",
    "        _, hvp_ = torch.autograd.functional.hvp(\n",
    "            func_fwd, primals, tangents, state=state\n",
    "        )\n",
    "        vhv_ = sum((v * hv).sum() for v, hv in zip(tangents, hvp_))\n",
    "        agg_jvp += jvp_.item() * sz\n",
    "        agg_vhv += vhv_.item() * sz\n",
    "        count += sz\n",
    "\n",
    "    jvp = agg_jvp / count\n",
    "    vhv = agg_vhv / count\n",
    "\n",
    "    return jvp, vhv"
   ]
  },
  {
   "cell_type": "code",
   "execution_count": 2,
   "metadata": {},
   "outputs": [],
   "source": [
    "# same random v for all runs\n",
    "random_v = [torch.randn_like(p) for p in get_params_data(named_params_t0)]"
   ]
  },
  {
   "cell_type": "code",
   "execution_count": 3,
   "metadata": {},
   "outputs": [
    {
     "name": "stdout",
     "output_type": "stream",
     "text": [
      "8 8\n",
      "torch.Size([1024, 784]) torch.Size([1024, 784])\n",
      "torch.Size([1024]) torch.Size([1024])\n",
      "torch.Size([256, 1024]) torch.Size([256, 1024])\n",
      "torch.Size([256]) torch.Size([256])\n",
      "torch.Size([32, 256]) torch.Size([32, 256])\n",
      "torch.Size([32]) torch.Size([32])\n",
      "torch.Size([10, 32]) torch.Size([10, 32])\n",
      "torch.Size([10]) torch.Size([10])\n"
     ]
    }
   ],
   "source": [
    "print(len(list(get_params_data(named_params_t0))), len(random_v))\n",
    "print(list(get_params_data(named_params_t0))[0].shape, random_v[0].shape)\n",
    "print(list(get_params_data(named_params_t0))[1].shape, random_v[1].shape)\n",
    "print(list(get_params_data(named_params_t0))[2].shape, random_v[2].shape)\n",
    "print(list(get_params_data(named_params_t0))[3].shape, random_v[3].shape)\n",
    "print(list(get_params_data(named_params_t0))[4].shape, random_v[4].shape)\n",
    "print(list(get_params_data(named_params_t0))[5].shape, random_v[5].shape)\n",
    "print(list(get_params_data(named_params_t0))[6].shape, random_v[6].shape)\n",
    "print(list(get_params_data(named_params_t0))[7].shape, random_v[7].shape)"
   ]
  },
  {
   "cell_type": "code",
   "execution_count": 4,
   "metadata": {},
   "outputs": [],
   "source": [
    "# compute jvp and vhv for all batch separately\n",
    "tmp_params, names = utils.make_functional(model)\n",
    "\n",
    "jvp_batches, vhv_batches = [], []\n",
    "for inputs, targets in loader:\n",
    "    primals = tuple(get_params_data(named_params_t0))\n",
    "    tangents = tuple(random_v)\n",
    "    jvp, vhv = metrics_in_batch(inputs, targets, names, primals, tangents, func_fwd)\n",
    "    jvp_batches.append(jvp)\n",
    "    vhv_batches.append(vhv)\n",
    "\n",
    "jvp_batch = sum(jvp_batches) / len(jvp_batches)\n",
    "vhv_batch = sum(vhv_batches) / len(vhv_batches)\n",
    "\n",
    "utils.restore_functional(model, tmp_params, names)"
   ]
  },
  {
   "cell_type": "code",
   "execution_count": 5,
   "metadata": {},
   "outputs": [],
   "source": [
    "# compute jvp for the entire landscape at once\n",
    "tmp_params, names = utils.make_functional(model)\n",
    "\n",
    "iterator = torch.utils.data.DataLoader(\n",
    "    dataset=loader.dataset,\n",
    "    batch_size=loader.batch_size\n",
    ")\n",
    "\n",
    "tangents = tuple(random_v)\n",
    "primals = tuple(get_params_data(named_params_t0))\n",
    "jvp_full, vhv_full = metrics_in_landscape(iterator, names, primals, tangents, func_fwd)\n",
    "\n",
    "utils.restore_functional(model, tmp_params, names)"
   ]
  },
  {
   "cell_type": "code",
   "execution_count": 6,
   "metadata": {},
   "outputs": [
    {
     "name": "stdout",
     "output_type": "stream",
     "text": [
      "Compute per batch and then average: JVP=1.8681, VHV=742.7760\n",
      "Compute for the entire landscape: JVP=1.8681, VHV=742.7760\n"
     ]
    }
   ],
   "source": [
    "print(f\"Compute per batch and then average: JVP={jvp_batch:.4f}, VHV={vhv_batch:.4f}\")\n",
    "print(f\"Compute for the entire landscape: JVP={jvp_full:.4f}, VHV={vhv_full:.4f}\")"
   ]
  },
  {
   "cell_type": "code",
   "execution_count": null,
   "metadata": {},
   "outputs": [],
   "source": [
    "# get first element of loader\n",
    "inputs, targets = next(iter(loader))\n",
    "targets.shape"
   ]
  },
  {
   "cell_type": "code",
   "execution_count": null,
   "metadata": {},
   "outputs": [],
   "source": []
  }
 ],
 "metadata": {
  "kernelspec": {
   "display_name": "zeroptim-wjwr",
   "language": "python",
   "name": "python3"
  },
  "language_info": {
   "codemirror_mode": {
    "name": "ipython",
    "version": 3
   },
   "file_extension": ".py",
   "mimetype": "text/x-python",
   "name": "python",
   "nbconvert_exporter": "python",
   "pygments_lexer": "ipython3",
   "version": "3.10.13"
  }
 },
 "nbformat": 4,
 "nbformat_minor": 2
}
